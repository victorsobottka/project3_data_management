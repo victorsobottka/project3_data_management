{
 "cells": [
  {
   "cell_type": "markdown",
   "id": "d462521f",
   "metadata": {},
   "source": [
    "We will work with the following 3 datasets:\n",
    "\n",
    "- Unemployment (JSON);\n",
    "- Income (CSV);\n",
    "- Incidences (CSV);"
   ]
  },
  {
   "cell_type": "markdown",
   "id": "75b7f171",
   "metadata": {},
   "source": [
    "## Libraries"
   ]
  },
  {
   "cell_type": "code",
   "execution_count": null,
   "id": "28fed133",
   "metadata": {},
   "outputs": [],
   "source": [
    "import pandas as pd \n",
    "import numpy as np\n",
    " \n"
   ]
  }
 ],
 "metadata": {
  "language_info": {
   "name": "python"
  }
 },
 "nbformat": 4,
 "nbformat_minor": 5
}
